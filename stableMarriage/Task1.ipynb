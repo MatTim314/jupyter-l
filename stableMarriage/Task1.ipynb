{
 "cells": [
  {
   "cell_type": "code",
   "execution_count": 25,
   "id": "2a4ea6c7-0c6e-4e63-8bcf-42e70595c892",
   "metadata": {},
   "outputs": [
    {
     "name": "stdout",
     "output_type": "stream",
     "text": [
      "8\n",
      "8\n"
     ]
    }
   ],
   "source": [
    "import os\n",
    "print(multiprocessing.cpu_count())\n",
    "\n",
    "print(len(os.sched_getaffinity(0)))"
   ]
  },
  {
   "cell_type": "code",
   "execution_count": 11,
   "id": "575fa461-d299-4cd8-9abb-771c6d95ff93",
   "metadata": {},
   "outputs": [],
   "source": [
    "from matching.games import StableMarriage\n",
    "\n",
    "def parse_preferences(file_path):\n",
    "    with open(file_path, 'r') as file:\n",
    "        lines = file.read().splitlines()\n",
    "\n",
    "    men_prefs = {}\n",
    "    women_prefs = {}\n",
    "    for line in lines:\n",
    "        parts = line.split(':')\n",
    "        entity, prefs = parts[0].strip(), parts[1].strip().split()\n",
    "        if entity.startswith('m'):\n",
    "            men_prefs[entity[1:]] = prefs\n",
    "        else:\n",
    "            women_prefs[entity[1:]] = prefs\n",
    "            \n",
    "    return men_prefs, women_prefs\n",
    "\n",
    "men_prefs, women_prefs = parse_preferences('./data.txt')\n",
    "men_prefs1, women_prefs1 = parse_preferences('./dataSMI.txt')\n",
    "\n",
    "#print(men_prefs)\n",
    "\n"
   ]
  },
  {
   "cell_type": "code",
   "execution_count": 12,
   "id": "914f0bd2-60f0-4138-b80b-832bab4b66bd",
   "metadata": {},
   "outputs": [],
   "source": [
    "import random\n",
    "def create_chromosome_repeat(men_preferences, women_preferences):\n",
    "    men = list(men_preferences.keys())\n",
    "    women = list(women_preferences.keys())\n",
    "    matches = []\n",
    "    chosen_women = set()\n",
    "\n",
    "    for man in men:\n",
    "        available_women = [w for w in men_preferences[man] if w not in chosen_women]\n",
    "        if available_women:\n",
    "            woman = random.choice(available_women)\n",
    "            matches.append((man, woman))\n",
    "            chosen_women.add(woman)\n",
    "            \n",
    "    return matches\n",
    "\n",
    "\n",
    "def create_chromosome(men_preferences, women_preferences):\n",
    "    chromosome = create_chromosome_repeat(men_preferences, women_preferences)\n",
    "    stable, _ = is_stable(chromosome, men_preferences, women_preferences)\n",
    "    while not stable:\n",
    "        chromosome = create_chromosome_repeat(men_preferences, women_preferences)\n",
    "        stable, _ = is_stable(chromosome, men_preferences, women_preferences)\n",
    "    return chromosome"
   ]
  },
  {
   "cell_type": "code",
   "execution_count": 13,
   "id": "0b930a22-f224-499e-9a90-bfcba1525ad1",
   "metadata": {},
   "outputs": [],
   "source": [
    "def is_stable(chromosome, men_preferences, women_preferences):\n",
    "    def prefers(new, current, preferences):\n",
    "        # Return True if the individual prefers the new partner over the current partner\n",
    "        return preferences.index(new) < preferences.index(current)\n",
    "    \n",
    "    # Extract the current matches from the chromosome\n",
    "    man_to_woman = {man: woman for man, woman in chromosome}\n",
    "    woman_to_man = {woman: man for man, woman in chromosome}\n",
    "    \n",
    "    blocking_pairs = 0\n",
    "    \n",
    "    # Check each man and woman to see if they form a blocking pair\n",
    "    for man, woman in chromosome:\n",
    "        man_prefs = men_preferences[man]\n",
    "        woman_prefs = women_preferences[woman]\n",
    "        \n",
    "        # Check if there is any woman in man's preference list that he prefers more than his current match\n",
    "        for preferred_woman in man_prefs:\n",
    "            if preferred_woman == woman:\n",
    "                break  # He prefers his current match the most, no blocking pair possible beyond this point\n",
    "            \n",
    "            preferred_woman_current_man = woman_to_man[preferred_woman]\n",
    "            # Check if the preferred woman prefers this man over her current match\n",
    "            if prefers(man, preferred_woman_current_man, women_preferences[preferred_woman]):\n",
    "                blocking_pairs += 1\n",
    "                break\n",
    "        \n",
    "        # Check if there is any man in woman's preference list that she prefers more than her current match\n",
    "        for preferred_man in woman_prefs:\n",
    "            if preferred_man == man:\n",
    "                break  # She prefers her current match the most, no blocking pair possible beyond this point\n",
    "\n",
    "            if preferred_man in man_to_woman:\n",
    "                preferred_man_current_woman = man_to_woman[preferred_man]\n",
    "                # Check if the preferred man prefers this woman over his current match\n",
    "                if prefers(woman, preferred_man_current_woman, men_preferences[preferred_man]):\n",
    "                    blocking_pairs += 1\n",
    "                    break\n",
    "    \n",
    "    # The chromosome is stable if there are no blocking pairs\n",
    "    is_stable = blocking_pairs == 0\n",
    "    \n",
    "    return is_stable, blocking_pairs\n"
   ]
  },
  {
   "cell_type": "code",
   "execution_count": 14,
   "id": "503faf0b-6b80-41d8-a157-caa4ed3a1ef1",
   "metadata": {},
   "outputs": [],
   "source": [
    "def calculate_happiness_cost(engagements, men_prefs, women_prefs):\n",
    "    return sum(men_prefs[man].index(woman) + women_prefs[woman].index(man)\n",
    "               for man, woman in engagements)\n",
    "\n",
    "def calculate_egalitarian_cost(engagements, men_prefs, women_prefs):\n",
    "    return sum(abs(men_prefs[man].index(woman) - women_prefs[woman].index(man))\n",
    "               for man, woman in engagements)\n",
    "\n",
    "def calculate_stability(engagements, men_prefs, women_prefs):\n",
    "    is_chromosome_stable, blocking_pairs_count = is_stable(engagements, men_prefs, women_prefs) \n",
    "    return blocking_pairs_count\n",
    "\n",
    "def calculate_fitness(engagements, men_prefs, women_prefs):\n",
    "    happiness_cost = calculate_happiness_cost(engagements, men_prefs, women_prefs)\n",
    "    egalitarian_cost = calculate_egalitarian_cost(engagements, men_prefs, women_prefs)\n",
    "    stability = calculate_stability(engagements, men_prefs, women_prefs)\n",
    "    \n",
    "    # Combine the costs into a fitness score (you may want to weigh these differently)\n",
    "    fitness = stability, egalitarian_cost + happiness_cost\n",
    "    return fitness"
   ]
  },
  {
   "cell_type": "code",
   "execution_count": 15,
   "id": "b8d60c03-8846-4635-b6b5-5c801cdb2971",
   "metadata": {},
   "outputs": [],
   "source": [
    "def one_point_crossover(parent1, parent2):\n",
    "    # Convert the engagements to lists for easy crossover\n",
    "    men1, women1 = zip(*parent1.items())\n",
    "    men2, women2 = zip(*parent2.items())\n",
    "\n",
    "    crossover_point = random.randint(1, len(men1) - 2)\n",
    "    new_men = men1[:crossover_point] + men2[crossover_point:]\n",
    "    new_women = women1[:crossover_point] + women2[crossover_point:]\n",
    "\n",
    "    # Remove duplicates to maintain valid engagements\n",
    "    engagements = {}\n",
    "    for m, w in zip(new_men, new_women):\n",
    "        if w not in engagements.values():\n",
    "            engagements[m] = w\n",
    "            \n",
    "    return engagements\n"
   ]
  },
  {
   "cell_type": "code",
   "execution_count": 16,
   "id": "04273514-e536-452c-a54c-d3dcd959953a",
   "metadata": {},
   "outputs": [],
   "source": [
    "def swap_mutation(individual):\n",
    "    men = list(individual.keys())\n",
    "    m1, m2 = random.sample(men, 2)\n",
    "    individual[m1], individual[m2] = individual[m2], individual[m1]\n",
    "    return individual\n"
   ]
  },
  {
   "cell_type": "code",
   "execution_count": 21,
   "id": "92ed7092-8523-41d3-bea8-6653a10f481a",
   "metadata": {},
   "outputs": [],
   "source": [
    "import multiprocessing\n",
    "from multiprocessing import Pool\n",
    "# Modified evolutionary algorithm with parallelization\n",
    "def evolutionary_algorithm(men_prefs, women_prefs, pop_size, generations):\n",
    "    \n",
    "    with Pool(multiprocessing.cpu_count()) as pool:\n",
    "        population = pool.map(create_chromosome(men_prefs, women_prefs), range(pop_size))\n",
    "    \n",
    "    best_fit = None\n",
    "    best_solution = None\n",
    "\n",
    "    for _ in range(generations):\n",
    "        fitness_scores = [(calculate_fitness(chromosome, men_prefs, women_prefs), chromosome) for chromosome in population]\n",
    "        fitness_scores = sorted(fitness_scores, key=lambda x: x[0])\n",
    "        \n",
    "        parents = list(map(lambda x: x[1], fitness_scores))\n",
    "        fitness_scores = list(map(lambda x: x[0], fitness_scores))\n",
    "\n",
    "        new_population = parents[:len(parents) // 2]\n",
    "        \n",
    "        with Pool(multiprocessing.cpu_count()) as pool:\n",
    "            new_chromosomes = pool.map(create_chromosome(men_prefs, women_prefs), range(pop_size // 2))\n",
    "        \n",
    "        new_population += new_chromosomes\n",
    "        assert(len(new_population) == pop_size)\n",
    "        \n",
    "        # Check if we have a new best solution\n",
    "        max_fit_index = fitness_scores.index(max(fitness_scores))\n",
    "        if best_fit is None or fitness_scores[max_fit_index] > best_fit:\n",
    "            best_fit = fitness_scores[max_fit_index]\n",
    "            best_solution = new_population[max_fit_index]\n",
    "\n",
    "        population = new_population\n",
    "\n",
    "    return best_solution, best_fit"
   ]
  },
  {
   "cell_type": "code",
   "execution_count": 26,
   "id": "4de0ccee-fc68-42b7-8665-13049fdda425",
   "metadata": {
    "scrolled": true
   },
   "outputs": [
    {
     "ename": "KeyboardInterrupt",
     "evalue": "",
     "output_type": "error",
     "traceback": [
      "\u001b[0;31m---------------------------------------------------------------------------\u001b[0m",
      "\u001b[0;31mKeyboardInterrupt\u001b[0m                         Traceback (most recent call last)",
      "Cell \u001b[0;32mIn[26], line 3\u001b[0m\n\u001b[1;32m      1\u001b[0m \u001b[38;5;66;03m# Now, we can call the evolutionary algorithm with the correct path to your data file\u001b[39;00m\n\u001b[1;32m      2\u001b[0m \u001b[38;5;28;01mif\u001b[39;00m \u001b[38;5;18m__name__\u001b[39m \u001b[38;5;241m==\u001b[39m \u001b[38;5;124m\"\u001b[39m\u001b[38;5;124m__main__\u001b[39m\u001b[38;5;124m\"\u001b[39m:\n\u001b[0;32m----> 3\u001b[0m     best_solution, best_fit \u001b[38;5;241m=\u001b[39m \u001b[43mevolutionary_algorithm\u001b[49m\u001b[43m(\u001b[49m\u001b[43mmen_prefs\u001b[49m\u001b[43m,\u001b[49m\u001b[43m \u001b[49m\u001b[43mwomen_prefs\u001b[49m\u001b[43m,\u001b[49m\u001b[43m \u001b[49m\u001b[43mpop_size\u001b[49m\u001b[38;5;241;43m=\u001b[39;49m\u001b[38;5;241;43m100\u001b[39;49m\u001b[43m,\u001b[49m\u001b[43m \u001b[49m\u001b[43mgenerations\u001b[49m\u001b[38;5;241;43m=\u001b[39;49m\u001b[38;5;241;43m10\u001b[39;49m\u001b[43m)\u001b[49m\n\u001b[1;32m      4\u001b[0m     \u001b[38;5;28mprint\u001b[39m(\u001b[38;5;124m\"\u001b[39m\u001b[38;5;124mBest Solution:\u001b[39m\u001b[38;5;124m\"\u001b[39m)\n\u001b[1;32m      5\u001b[0m     \u001b[38;5;28;01mfor\u001b[39;00m man, woman \u001b[38;5;129;01min\u001b[39;00m best_solution:\n",
      "Cell \u001b[0;32mIn[21], line 7\u001b[0m, in \u001b[0;36mevolutionary_algorithm\u001b[0;34m(men_prefs, women_prefs, pop_size, generations)\u001b[0m\n\u001b[1;32m      4\u001b[0m \u001b[38;5;28;01mdef\u001b[39;00m \u001b[38;5;21mevolutionary_algorithm\u001b[39m(men_prefs, women_prefs, pop_size, generations):\n\u001b[1;32m      6\u001b[0m     \u001b[38;5;28;01mwith\u001b[39;00m Pool(multiprocessing\u001b[38;5;241m.\u001b[39mcpu_count()) \u001b[38;5;28;01mas\u001b[39;00m pool:\n\u001b[0;32m----> 7\u001b[0m         population \u001b[38;5;241m=\u001b[39m pool\u001b[38;5;241m.\u001b[39mmap(\u001b[43mcreate_chromosome\u001b[49m\u001b[43m(\u001b[49m\u001b[43mmen_prefs\u001b[49m\u001b[43m,\u001b[49m\u001b[43m \u001b[49m\u001b[43mwomen_prefs\u001b[49m\u001b[43m)\u001b[49m, \u001b[38;5;28mrange\u001b[39m(pop_size))\n\u001b[1;32m      9\u001b[0m     best_fit \u001b[38;5;241m=\u001b[39m \u001b[38;5;28;01mNone\u001b[39;00m\n\u001b[1;32m     10\u001b[0m     best_solution \u001b[38;5;241m=\u001b[39m \u001b[38;5;28;01mNone\u001b[39;00m\n",
      "Cell \u001b[0;32mIn[12], line 23\u001b[0m, in \u001b[0;36mcreate_chromosome\u001b[0;34m(men_preferences, women_preferences)\u001b[0m\n\u001b[1;32m     21\u001b[0m \u001b[38;5;28;01mwhile\u001b[39;00m \u001b[38;5;129;01mnot\u001b[39;00m stable:\n\u001b[1;32m     22\u001b[0m     chromosome \u001b[38;5;241m=\u001b[39m create_chromosome_repeat(men_preferences, women_preferences)\n\u001b[0;32m---> 23\u001b[0m     stable, _ \u001b[38;5;241m=\u001b[39m \u001b[43mis_stable\u001b[49m\u001b[43m(\u001b[49m\u001b[43mchromosome\u001b[49m\u001b[43m,\u001b[49m\u001b[43m \u001b[49m\u001b[43mmen_preferences\u001b[49m\u001b[43m,\u001b[49m\u001b[43m \u001b[49m\u001b[43mwomen_preferences\u001b[49m\u001b[43m)\u001b[49m\n\u001b[1;32m     24\u001b[0m \u001b[38;5;28;01mreturn\u001b[39;00m chromosome\n",
      "Cell \u001b[0;32mIn[13], line 24\u001b[0m, in \u001b[0;36mis_stable\u001b[0;34m(chromosome, men_preferences, women_preferences)\u001b[0m\n\u001b[1;32m     22\u001b[0m preferred_woman_current_man \u001b[38;5;241m=\u001b[39m woman_to_man[preferred_woman]\n\u001b[1;32m     23\u001b[0m \u001b[38;5;66;03m# Check if the preferred woman prefers this man over her current match\u001b[39;00m\n\u001b[0;32m---> 24\u001b[0m \u001b[38;5;28;01mif\u001b[39;00m \u001b[43mprefers\u001b[49m\u001b[43m(\u001b[49m\u001b[43mman\u001b[49m\u001b[43m,\u001b[49m\u001b[43m \u001b[49m\u001b[43mpreferred_woman_current_man\u001b[49m\u001b[43m,\u001b[49m\u001b[43m \u001b[49m\u001b[43mwomen_preferences\u001b[49m\u001b[43m[\u001b[49m\u001b[43mpreferred_woman\u001b[49m\u001b[43m]\u001b[49m\u001b[43m)\u001b[49m:\n\u001b[1;32m     25\u001b[0m     blocking_pairs \u001b[38;5;241m+\u001b[39m\u001b[38;5;241m=\u001b[39m \u001b[38;5;241m1\u001b[39m\n\u001b[1;32m     26\u001b[0m     \u001b[38;5;28;01mbreak\u001b[39;00m\n",
      "Cell \u001b[0;32mIn[13], line 4\u001b[0m, in \u001b[0;36mis_stable.<locals>.prefers\u001b[0;34m(new, current, preferences)\u001b[0m\n\u001b[1;32m      2\u001b[0m \u001b[38;5;28;01mdef\u001b[39;00m \u001b[38;5;21mprefers\u001b[39m(new, current, preferences):\n\u001b[1;32m      3\u001b[0m     \u001b[38;5;66;03m# Return True if the individual prefers the new partner over the current partner\u001b[39;00m\n\u001b[0;32m----> 4\u001b[0m     \u001b[38;5;28;01mreturn\u001b[39;00m preferences\u001b[38;5;241m.\u001b[39mindex(new) \u001b[38;5;241m<\u001b[39m \u001b[43mpreferences\u001b[49m\u001b[38;5;241;43m.\u001b[39;49m\u001b[43mindex\u001b[49m\u001b[43m(\u001b[49m\u001b[43mcurrent\u001b[49m\u001b[43m)\u001b[49m\n",
      "\u001b[0;31mKeyboardInterrupt\u001b[0m: "
     ]
    }
   ],
   "source": [
    "# Now, we can call the evolutionary algorithm with the correct path to your data file\n",
    "if __name__ == \"__main__\":\n",
    "    best_solution, best_fit = evolutionary_algorithm(men_prefs, women_prefs, pop_size=100, generations=10)\n",
    "    print(\"Best Solution:\")\n",
    "    for man, woman in best_solution:\n",
    "        print(f\"{man} is matched with {woman}\")\n",
    "    print(f\"Best Fitness: {best_fit}\")\n"
   ]
  },
  {
   "cell_type": "code",
   "execution_count": null,
   "id": "405a4e1d-7f50-4e78-8f1c-32e9ef17bce7",
   "metadata": {},
   "outputs": [],
   "source": []
  },
  {
   "cell_type": "code",
   "execution_count": null,
   "id": "3f2125dd-2adf-4f69-852c-0561a5823635",
   "metadata": {},
   "outputs": [],
   "source": []
  }
 ],
 "metadata": {
  "kernelspec": {
   "display_name": "Python 3 (ipykernel)",
   "language": "python",
   "name": "python3"
  },
  "language_info": {
   "codemirror_mode": {
    "name": "ipython",
    "version": 3
   },
   "file_extension": ".py",
   "mimetype": "text/x-python",
   "name": "python",
   "nbconvert_exporter": "python",
   "pygments_lexer": "ipython3",
   "version": "3.10.12"
  }
 },
 "nbformat": 4,
 "nbformat_minor": 5
}
